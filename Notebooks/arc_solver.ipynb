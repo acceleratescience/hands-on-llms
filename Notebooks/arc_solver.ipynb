{
 "cells": [
  {
   "cell_type": "markdown",
   "id": "221b2e35",
   "metadata": {},
   "source": [
    "Code to call the OpenAI API to call and solve visual puzzles (ConceptARC problems).\n",
    "\n",
    "https://github.com/victorvikram/ConceptARC/tree/main/MinimalTasks\n"
   ]
  },
  {
   "cell_type": "code",
   "execution_count": 1,
   "id": "66cf57c8",
   "metadata": {},
   "outputs": [],
   "source": [
    "from openai import OpenAI\n",
    "import dotenv\n",
    "import os\n",
    "from rich import print as rprint # for making fancy outputs\n",
    "\n",
    "dotenv.load_dotenv()\n",
    "\n",
    "client = OpenAI()\n",
    "\n",
    "OPENAI_API_KEY = os.getenv(\"OPENAI_API_KEY\")"
   ]
  },
  {
   "cell_type": "markdown",
   "id": "27376b08",
   "metadata": {},
   "source": [
    "Call ConceptARC solver. Start by creating a good system prompt."
   ]
  },
  {
   "cell_type": "code",
   "execution_count": 2,
   "id": "98c05e02",
   "metadata": {},
   "outputs": [],
   "source": [
    "system_prompt = \"You are an intelligent solver of puzzles.\"\n",
    "user_prompt = 'your job is to solve a puzzle. These are puzzles in json format. I have some training examples and a test example in ConceptARC. Please solve it. Here is the puzzle:  {\"train\":[{\"input\":[[0,0,0,0,0,0,0,0,0,0],[0,0,0,0,4,0,0,0,0,0],[0,0,0,4,4,4,0,0,0,0],[0,0,0,0,0,0,0,0,0,0],[0,0,0,3,3,3,0,0,0,0],[0,0,0,3,3,3,0,0,0,0],[0,0,0,3,3,3,0,0,0,0],[0,0,0,0,0,0,0,0,0,0],[0,0,0,0,0,0,0,0,0,0],[0,0,0,0,0,0,0,0,0,0]],\"output\":[[0,4,0],[4,4,4]]},{\"input\":[[0,0,3,3,0,0,0,0],[0,0,3,3,0,0,0,0],[0,0,0,0,0,0,0,0],[0,4,0,4,0,0,0,0],[0,4,4,4,0,0,0,0],[0,0,0,0,0,0,0,0],[0,0,0,0,0,0,0,0],[0,0,0,0,0,0,0,0]],\"output\":[[3,3],[3,3]]},{\"input\":[[0,0,0,0,0,0,0,0,0],[0,0,0,3,3,3,3,3,0],[0,0,0,0,0,0,0,0,0],[0,0,0,0,0,0,0,0,0],[0,0,4,4,4,4,0,0,0],[0,0,0,0,0,0,0,0,0],[0,0,0,0,0,0,0,0,0],[0,0,0,0,0,0,0,0,0],[0,0,0,0,0,0,0,0,0]],\"output\":[[3,3,3,3,3]]},{\"input\":[[0,0,0,0,0,0,0,0],[0,0,0,4,0,0,0,0],[0,0,4,0,4,0,0,0],[0,0,0,4,0,0,0,0],[0,0,0,0,0,0,0,0],[0,0,3,3,3,3,0,0],[0,0,3,0,0,3,0,0],[0,0,0,3,3,0,0,0]],\"output\":[[0,4,0],[4,0,4],[0,4,0]]}],\"test\":[{\"input\":[[4,4,4,0,0,0],[4,4,4,0,0,0],[0,0,0,0,0,0],[0,0,3,0,0,0],[3,3,3,3,0,0],[0,0,0,0,0,0]],\"output\":[[4,4,4],[4,4,4]]},{\"input\":[[0,0,0,0,0,0,0,0,0,0],[0,0,0,0,0,0,0,0,0,0],[4,4,4,4,4,4,4,4,4,4],[3,3,3,3,3,3,3,3,3,3],[0,0,0,0,0,0,0,0,0,0],[0,0,0,0,0,0,0,0,0,0],[0,0,0,0,0,0,0,0,0,0],[0,0,0,0,0,0,0,0,0,0],[0,0,0,0,0,0,0,0,0,0],[0,0,0,0,0,0,0,0,0,0]],\"output\":[[4,4,4,4,4,4,4,4,4,4]]},{\"input\":[[0,0,0,0,0],[0,3,3,3,0],[0,3,0,3,0],[0,3,3,3,0],[0,4,0,4,0],[4,0,4,0,4]],\"output\":[[3,3,3],[3,0,3],[3,3,3]]}]}'\n"
   ]
  },
  {
   "cell_type": "markdown",
   "id": "28f1a066",
   "metadata": {},
   "source": [
    "Solve the problem now."
   ]
  },
  {
   "cell_type": "code",
   "execution_count": 3,
   "id": "acc06d35",
   "metadata": {},
   "outputs": [
    {
     "name": "stdout",
     "output_type": "stream",
     "text": [
      "To solve the given test inputs according to the pattern established in the training examples, we need to analyze the inputs and determine the expected outputs based on the arrangement of numbers within each sub-grid.\n",
      "\n",
      "Here are the solutions for the given test cases:\n",
      "\n",
      "1. **Test Input**: \n",
      "   ```json\n",
      "   [[4,4,4,0,0,0],\n",
      "    [4,4,4,0,0,0],\n",
      "    [0,0,0,0,0,0],\n",
      "    [0,0,3,0,0,0],\n",
      "    [3,3,3,3,0,0],\n",
      "    [0,0,0,0,0,0]]\n",
      "   ```\n",
      "   **Expected Output**:\n",
      "   For this grid, the first two rows form a continuous block of 4s. Therefore, the output will be:\n",
      "   ```json\n",
      "   [[4,4,4],\n",
      "    [4,4,4]]\n",
      "   ```\n",
      "\n",
      "2. **Test Input**: \n",
      "   ```json\n",
      "   [[0,0,0,0,0,0,0,0,0,0],\n",
      "    [0,0,0,0,0,0,0,0,0,0],\n",
      "    [4,4,4,4,4,4,4,4,4,4],\n",
      "    [3,3,3,3,3,3,3,3,3,3],\n",
      "    [0,0,0,0,0,0,0,0,0,0],\n",
      "    [0,0,0,0,0,0,0,0,0,0],\n",
      "    [0,0,0,0,0,0,0,0,0,0],\n",
      "    [0,0,0,0,0,0,0,0,0,0],\n",
      "    [0,0,0,0,0,0,0,0,0,0],\n",
      "    [0,0,0,0,0,0,0,0,0,0]]\n",
      "   ```\n",
      "   **Expected Output**:\n",
      "   The third row contains a continuous block of 4s, followed by a row of 3s. Thus, the output is:\n",
      "   ```json\n",
      "   [[4,4,4,4,4,4,4,4,4,4]]\n",
      "   ```\n",
      "\n",
      "3. **Test Input**: \n",
      "   ```json\n",
      "   [[0,0,0,0,0],\n",
      "    [0,3,3,3,0],\n",
      "    [0,3,0,3,0],\n",
      "    [0,3,3,3,0],\n",
      "    [0,4,0,4,0],\n",
      "    [4,0,4,0,4]]\n",
      "   ```\n",
      "   **Expected Output**:\n",
      "   The output should represent the alignment of the 3s and the 4s that form distinct clusters, resulting in an output of:\n",
      "   ```json\n",
      "   [[3,3,3],\n",
      "    [3,0,3],\n",
      "    [3,3,3]]\n",
      "   ```\n",
      "\n",
      "Thus, the complete outputs for the test inputs are:\n",
      "\n",
      "```json\n",
      "[\n",
      "  [[4,4,4],[4,4,4]],\n",
      "  [[4,4,4,4,4,4,4,4,4,4]],\n",
      "  [[3,3,3],[3,0,3],[3,3,3]]\n",
      "]\n",
      "```\n"
     ]
    }
   ],
   "source": [
    "response = client.chat.completions.create(\n",
    "    model=\"gpt-4o-mini\",\n",
    "    messages=[\n",
    "        {\"role\":\"system\", \"content\": system_prompt},\n",
    "        {\"role\": \"user\",  \"content\": user_prompt}\n",
    "    ],\n",
    "    temperature=1.0,\n",
    "    max_tokens=1000,\n",
    ")\n",
    "\n",
    "print(response.choices[0].message.content) # print the response from the model\n"
   ]
  },
  {
   "cell_type": "markdown",
   "id": "904e0c7f",
   "metadata": {},
   "source": [
    "Use a vision model now to solve ConceptARC puzze\n"
   ]
  },
  {
   "cell_type": "code",
   "execution_count": 4,
   "id": "9c1e424a",
   "metadata": {},
   "outputs": [],
   "source": [
    "prompt = (\"You are an intelligent solver of puzzles. \" \n",
    "\"Your job is to solve a puzzle. The puzzle is given to you as an image \" \n",
    "\"and you need to provide the solution in text format. \"\n",
    "\"Please provide the solution in a clear and concise manner. \"\n",
    "\"Make sure to include all necessary details in the solution. \"\n",
    "\"Feel free to make any inferences you need to. \"\n",
    ")\n",
    "\n",
    "\n",
    "\n"
   ]
  },
  {
   "cell_type": "markdown",
   "id": "9cb15adb",
   "metadata": {},
   "source": [
    "Now call the OpenAI vision model API"
   ]
  },
  {
   "cell_type": "code",
   "execution_count": 5,
   "id": "f074d71f",
   "metadata": {},
   "outputs": [],
   "source": [
    "import base64\n",
    "import requests\n",
    "import json"
   ]
  },
  {
   "cell_type": "markdown",
   "id": "ffa1938d",
   "metadata": {},
   "source": [
    "function to encode the image"
   ]
  },
  {
   "cell_type": "code",
   "execution_count": 6,
   "id": "567d58f7",
   "metadata": {},
   "outputs": [],
   "source": [
    "def encode_image(image_path):\n",
    "    with open(image_path, \"rb\") as image_file:\n",
    "        encoded_string = base64.b64encode(image_file.read()).decode('utf-8')\n",
    "    return encoded_string\n",
    "\n"
   ]
  },
  {
   "cell_type": "code",
   "execution_count": 9,
   "id": "b96e06e6",
   "metadata": {},
   "outputs": [],
   "source": [
    "# Path to image file\n",
    "image_path = \"imgs/puzzle.png\"\n",
    "\n",
    "def get_image_caption(image_path, prompt):\n",
    "  # Getting the base64 string\n",
    "  base64_image = encode_image(image_path)\n",
    "\n",
    "  headers = {\n",
    "    \"Content-Type\": \"application/json\",\n",
    "    \"Authorization\": f\"Bearer {OPENAI_API_KEY}\"\n",
    "  }\n",
    "\n",
    "  payload = {\n",
    "    \"model\": \"gpt-4o-mini\",\n",
    "    \"messages\": [\n",
    "      {\n",
    "        \"role\": \"user\",\n",
    "        \"content\": [\n",
    "          {\n",
    "            \"type\": \"text\",\n",
    "            \"text\": prompt\n",
    "          },\n",
    "          {\n",
    "            \"type\": \"image_url\",\n",
    "            \"image_url\": {\n",
    "              \"url\": f\"data:image/jpeg;base64,{base64_image}\"\n",
    "            }\n",
    "          }\n",
    "        ]\n",
    "      }\n",
    "    ],\n",
    "    \"max_tokens\": 512\n",
    "  }\n",
    "\n",
    "  response = requests.post(\"https://api.openai.com/v1/chat/completions\", headers=headers, json=payload)\n",
    "\n",
    "  return response.json()['choices'][0]['message']['content']\n",
    "\n",
    "\n"
   ]
  },
  {
   "cell_type": "markdown",
   "id": "06bc1f16",
   "metadata": {},
   "source": [
    "Pass this to the solver"
   ]
  },
  {
   "cell_type": "code",
   "execution_count": 10,
   "id": "2bc38e97",
   "metadata": {},
   "outputs": [
    {
     "data": {
      "text/html": [
       "<pre style=\"white-space:pre;overflow-x:auto;line-height:normal;font-family:Menlo,'DejaVu Sans Mono',consolas,'Courier New',monospace\">Based on the images provided, the puzzle consists of identifying the patterns and relationships among the colored \n",
       "squares presented in each grid and matching them with the corresponding sections on the right.\n",
       "\n",
       "Here's a concise breakdown for each grid section:\n",
       "\n",
       "<span style=\"color: #008080; text-decoration-color: #008080; font-weight: bold\">1</span>. **First Grid**: The combination of colored shapes has a yellow bar that indicates the continuation or completion\n",
       "of a sequence. The first grid's pattern seems to have colored blocks in various configurations. The matching yellow\n",
       "segment on the right should reflect this pattern by continuing the sequence.\n",
       "\n",
       "<span style=\"color: #008080; text-decoration-color: #008080; font-weight: bold\">2</span>. **Second Grid**: Again, observe the arrangement of the blocks. Specific colors appear in a configuration that \n",
       "can lead to inferring the next arrangement based on previous ones.\n",
       "\n",
       "<span style=\"color: #008080; text-decoration-color: #008080; font-weight: bold\">3</span>. **Third Grid**: A repeating theme or a transition occurs where the arrangement of colors might suggest certain \n",
       "rotations or positions that each shape is taken into account with respect to its yellow section.\n",
       "\n",
       "<span style=\"color: #008080; text-decoration-color: #008080; font-weight: bold\">4</span>. **Fourth Grid**: This section will likely lead to the final outcome based on similarities and repetitions from \n",
       "the earlier grids.\n",
       "\n",
       "After careful observation of the patterns and configurations from each of the grids and matching them with the \n",
       "sections on the right, the solution is as follows:\n",
       "\n",
       "**Solution**: The completed yellow blocks, based on the identified patterns and shapes from left to right, are: \n",
       "\n",
       "Yellow segments filled: \n",
       "- Grid <span style=\"color: #008080; text-decoration-color: #008080; font-weight: bold\">1</span>: Full yellow segment.\n",
       "- Grid <span style=\"color: #008080; text-decoration-color: #008080; font-weight: bold\">2</span>: Full yellow segment.\n",
       "- Grid <span style=\"color: #008080; text-decoration-color: #008080; font-weight: bold\">3</span>: Full yellow segment.\n",
       "- Grid <span style=\"color: #008080; text-decoration-color: #008080; font-weight: bold\">4</span>: All segments aligned lead to a smaller single yellow block.\n",
       "\n",
       "Overall, the next configuration is determined through continued efforts of matching colored blocks so, potentially,\n",
       "the interpreted arrangement would be: \n",
       "\n",
       "**Final Answer: All filled segments as per patterns continuing down the right side.**\n",
       "\n",
       "**Conclusion**: The needed yellow segments formed a complete line representative of the filled patterns and thus \n",
       "deliver the final solution based on the observed sequence and shapes.\n",
       "</pre>\n"
      ],
      "text/plain": [
       "Based on the images provided, the puzzle consists of identifying the patterns and relationships among the colored \n",
       "squares presented in each grid and matching them with the corresponding sections on the right.\n",
       "\n",
       "Here's a concise breakdown for each grid section:\n",
       "\n",
       "\u001b[1;36m1\u001b[0m. **First Grid**: The combination of colored shapes has a yellow bar that indicates the continuation or completion\n",
       "of a sequence. The first grid's pattern seems to have colored blocks in various configurations. The matching yellow\n",
       "segment on the right should reflect this pattern by continuing the sequence.\n",
       "\n",
       "\u001b[1;36m2\u001b[0m. **Second Grid**: Again, observe the arrangement of the blocks. Specific colors appear in a configuration that \n",
       "can lead to inferring the next arrangement based on previous ones.\n",
       "\n",
       "\u001b[1;36m3\u001b[0m. **Third Grid**: A repeating theme or a transition occurs where the arrangement of colors might suggest certain \n",
       "rotations or positions that each shape is taken into account with respect to its yellow section.\n",
       "\n",
       "\u001b[1;36m4\u001b[0m. **Fourth Grid**: This section will likely lead to the final outcome based on similarities and repetitions from \n",
       "the earlier grids.\n",
       "\n",
       "After careful observation of the patterns and configurations from each of the grids and matching them with the \n",
       "sections on the right, the solution is as follows:\n",
       "\n",
       "**Solution**: The completed yellow blocks, based on the identified patterns and shapes from left to right, are: \n",
       "\n",
       "Yellow segments filled: \n",
       "- Grid \u001b[1;36m1\u001b[0m: Full yellow segment.\n",
       "- Grid \u001b[1;36m2\u001b[0m: Full yellow segment.\n",
       "- Grid \u001b[1;36m3\u001b[0m: Full yellow segment.\n",
       "- Grid \u001b[1;36m4\u001b[0m: All segments aligned lead to a smaller single yellow block.\n",
       "\n",
       "Overall, the next configuration is determined through continued efforts of matching colored blocks so, potentially,\n",
       "the interpreted arrangement would be: \n",
       "\n",
       "**Final Answer: All filled segments as per patterns continuing down the right side.**\n",
       "\n",
       "**Conclusion**: The needed yellow segments formed a complete line representative of the filled patterns and thus \n",
       "deliver the final solution based on the observed sequence and shapes.\n"
      ]
     },
     "metadata": {},
     "output_type": "display_data"
    }
   ],
   "source": [
    "caption = get_image_caption(image_path, prompt)\n",
    "\n",
    "#print(\"Caption for the image:\")\n",
    "#print(caption)\n",
    "rprint(caption) # print the caption"
   ]
  }
 ],
 "metadata": {
  "kernelspec": {
   "display_name": "Python 3",
   "language": "python",
   "name": "python3"
  },
  "language_info": {
   "codemirror_mode": {
    "name": "ipython",
    "version": 3
   },
   "file_extension": ".py",
   "mimetype": "text/x-python",
   "name": "python",
   "nbconvert_exporter": "python",
   "pygments_lexer": "ipython3",
   "version": "3.12.1"
  }
 },
 "nbformat": 4,
 "nbformat_minor": 5
}
