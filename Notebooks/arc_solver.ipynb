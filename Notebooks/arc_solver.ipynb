{
 "cells": [
  {
   "cell_type": "markdown",
   "id": "221b2e35",
   "metadata": {},
   "source": [
    "Code to call the OpenAI API to call and solve visual puzzles (ConceptARC problems).\n",
    "\n",
    "https://github.com/victorvikram/ConceptARC/tree/main/MinimalTasks\n"
   ]
  },
  {
   "cell_type": "code",
   "execution_count": 19,
   "id": "66cf57c8",
   "metadata": {},
   "outputs": [],
   "source": [
    "from openai import OpenAI\n",
    "import dotenv\n",
    "import os\n",
    "from rich import print as rprint # for making fancy outputs\n",
    "\n",
    "dotenv.load_dotenv()\n",
    "\n",
    "client = OpenAI()\n",
    "\n",
    "OPENAI_API_KEY = os.getenv(\"OPENAI_API_KEY\")"
   ]
  },
  {
   "cell_type": "markdown",
   "id": "27376b08",
   "metadata": {},
   "source": [
    "Call ConceptARC solver. Start by creating a good system prompt."
   ]
  },
  {
   "cell_type": "code",
   "execution_count": 20,
   "id": "98c05e02",
   "metadata": {},
   "outputs": [],
   "source": [
    "system_prompt = \"You are an intelligent solver of puzzles.\"\n",
    "user_prompt = 'your job is to solve a puzzle. These are puzzles in json format. I have some training examples and a test example in ConceptARC. Please solve it. Here is the puzzle:  {\"train\":[{\"input\":[[0,0,0,0,0,0,0,0,0,0],[0,0,0,0,4,0,0,0,0,0],[0,0,0,4,4,4,0,0,0,0],[0,0,0,0,0,0,0,0,0,0],[0,0,0,3,3,3,0,0,0,0],[0,0,0,3,3,3,0,0,0,0],[0,0,0,3,3,3,0,0,0,0],[0,0,0,0,0,0,0,0,0,0],[0,0,0,0,0,0,0,0,0,0],[0,0,0,0,0,0,0,0,0,0]],\"output\":[[0,4,0],[4,4,4]]},{\"input\":[[0,0,3,3,0,0,0,0],[0,0,3,3,0,0,0,0],[0,0,0,0,0,0,0,0],[0,4,0,4,0,0,0,0],[0,4,4,4,0,0,0,0],[0,0,0,0,0,0,0,0],[0,0,0,0,0,0,0,0],[0,0,0,0,0,0,0,0]],\"output\":[[3,3],[3,3]]},{\"input\":[[0,0,0,0,0,0,0,0,0],[0,0,0,3,3,3,3,3,0],[0,0,0,0,0,0,0,0,0],[0,0,0,0,0,0,0,0,0],[0,0,4,4,4,4,0,0,0],[0,0,0,0,0,0,0,0,0],[0,0,0,0,0,0,0,0,0],[0,0,0,0,0,0,0,0,0],[0,0,0,0,0,0,0,0,0]],\"output\":[[3,3,3,3,3]]},{\"input\":[[0,0,0,0,0,0,0,0],[0,0,0,4,0,0,0,0],[0,0,4,0,4,0,0,0],[0,0,0,4,0,0,0,0],[0,0,0,0,0,0,0,0],[0,0,3,3,3,3,0,0],[0,0,3,0,0,3,0,0],[0,0,0,3,3,0,0,0]],\"output\":[[0,4,0],[4,0,4],[0,4,0]]}],\"test\":[{\"input\":[[4,4,4,0,0,0],[4,4,4,0,0,0],[0,0,0,0,0,0],[0,0,3,0,0,0],[3,3,3,3,0,0],[0,0,0,0,0,0]],\"output\":[[4,4,4],[4,4,4]]},{\"input\":[[0,0,0,0,0,0,0,0,0,0],[0,0,0,0,0,0,0,0,0,0],[4,4,4,4,4,4,4,4,4,4],[3,3,3,3,3,3,3,3,3,3],[0,0,0,0,0,0,0,0,0,0],[0,0,0,0,0,0,0,0,0,0],[0,0,0,0,0,0,0,0,0,0],[0,0,0,0,0,0,0,0,0,0],[0,0,0,0,0,0,0,0,0,0],[0,0,0,0,0,0,0,0,0,0]],\"output\":[[4,4,4,4,4,4,4,4,4,4]]},{\"input\":[[0,0,0,0,0],[0,3,3,3,0],[0,3,0,3,0],[0,3,3,3,0],[0,4,0,4,0],[4,0,4,0,4]],\"output\":[[3,3,3],[3,0,3],[3,3,3]]}]}'\n"
   ]
  },
  {
   "cell_type": "markdown",
   "id": "28f1a066",
   "metadata": {},
   "source": [
    "Solve the problem now."
   ]
  },
  {
   "cell_type": "code",
   "execution_count": null,
   "id": "acc06d35",
   "metadata": {},
   "outputs": [],
   "source": [
    "response = client.chat.completions.create(\n",
    "    model=\"gpt-4o-mini\",\n",
    "    messages=[\n",
    "        {\"role\":\"system\", \"content\": system_prompt},\n",
    "        {\"role\": \"user\",  \"content\": user_prompt}\n",
    "    ],\n",
    "    temperature=1.0,\n",
    "    max_tokens=1000,\n",
    ")\n",
    "\n",
    "print(response.choices[0].message.content) # print the response from the model\n"
   ]
  },
  {
   "cell_type": "markdown",
   "id": "904e0c7f",
   "metadata": {},
   "source": [
    "Use a vision model now to solve ConceptARC puzzle\n"
   ]
  },
  {
   "cell_type": "code",
   "execution_count": null,
   "id": "9c1e424a",
   "metadata": {},
   "outputs": [],
   "source": [
    "prompt = (\"You are an intelligent solver of puzzles. \" \n",
    "\"Your job is to solve a puzzle. The puzzle is given to you as an image \" \n",
    "\"and you need to provide the solution in text format. \"\n",
    "\"Please provide the solution in a clear and concise manner. \"\n",
    "\"Make sure to include all necessary details in the solution. \"\n",
    "\"Feel free to make any inferences you need to. \"\n",
    ")\n",
    "\n",
    "\n",
    "\n"
   ]
  },
  {
   "cell_type": "markdown",
   "id": "9cb15adb",
   "metadata": {},
   "source": [
    "Now call the OpenAI vision model API"
   ]
  },
  {
   "cell_type": "code",
   "execution_count": null,
   "id": "f074d71f",
   "metadata": {},
   "outputs": [],
   "source": [
    "import base64\n",
    "import requests\n",
    "import json"
   ]
  },
  {
   "cell_type": "markdown",
   "id": "ffa1938d",
   "metadata": {},
   "source": [
    "function to encode the image"
   ]
  },
  {
   "cell_type": "code",
   "execution_count": null,
   "id": "567d58f7",
   "metadata": {},
   "outputs": [],
   "source": [
    "def encode_image(image_path):\n",
    "    with open(image_path, \"rb\") as image_file:\n",
    "        encoded_string = base64.b64encode(image_file.read()).decode('utf-8')\n",
    "    return encoded_string\n",
    "\n"
   ]
  },
  {
   "cell_type": "code",
   "execution_count": null,
   "id": "b96e06e6",
   "metadata": {},
   "outputs": [],
   "source": [
    "# Path to image file\n",
    "image_path = \"imgs/puzzle.png\"\n",
    "\n",
    "def get_image_caption(image_path, prompt):\n",
    "  # Getting the base64 string\n",
    "  base64_image = encode_image(image_path)\n",
    "\n",
    "  headers = {\n",
    "    \"Content-Type\": \"application/json\",\n",
    "    \"Authorization\": f\"Bearer {OPENAI_API_KEY}\"\n",
    "  }\n",
    "\n",
    "  payload = {\n",
    "    \"model\": \"gpt-4o-mini\",\n",
    "    \"messages\": [\n",
    "      {\n",
    "        \"role\": \"user\",\n",
    "        \"content\": [\n",
    "          {\n",
    "            \"type\": \"text\",\n",
    "            \"text\": prompt\n",
    "          },\n",
    "          {\n",
    "            \"type\": \"image_url\",\n",
    "            \"image_url\": {\n",
    "              \"url\": f\"data:image/jpeg;base64,{base64_image}\"\n",
    "            }\n",
    "          }\n",
    "        ]\n",
    "      }\n",
    "    ],\n",
    "    \"max_tokens\": 512\n",
    "  }\n",
    "\n",
    "  response = requests.post(\"https://api.openai.com/v1/chat/completions\", headers=headers, json=payload)\n",
    "\n",
    "  return response.json()['choices'][0]['message']['content']\n",
    "\n",
    "\n"
   ]
  },
  {
   "cell_type": "markdown",
   "id": "06bc1f16",
   "metadata": {},
   "source": [
    "Pass this to the solver"
   ]
  },
  {
   "cell_type": "code",
   "execution_count": null,
   "id": "2bc38e97",
   "metadata": {},
   "outputs": [
    {
     "data": {
      "text/html": [
       "<pre style=\"white-space:pre;overflow-x:auto;line-height:normal;font-family:Menlo,'DejaVu Sans Mono',consolas,'Courier New',monospace\">The puzzle presents a series of grids where colored shapes are arranged in various configurations. The goal is to \n",
       "deduce a pattern from these configurations and apply that to fill in the missing pieces.\n",
       "\n",
       "### Solution Outline\n",
       "\n",
       "<span style=\"color: #008080; text-decoration-color: #008080; font-weight: bold\">1</span>. **Identify Patterns in Grids:**\n",
       "   - Each grid contains a combination of colored shapes placed in different positions.\n",
       "   - The patterns seem to vary in colors and shapes across the grids.\n",
       "\n",
       "<span style=\"color: #008080; text-decoration-color: #008080; font-weight: bold\">2</span>. **Analyze Shape Placement:**\n",
       "   - Look for consistent positioning of shapes from one grid to the next.\n",
       "   - Identify which colors or shapes appear in each grid and where they are located.\n",
       "\n",
       "<span style=\"color: #008080; text-decoration-color: #008080; font-weight: bold\">3</span>. **Fill in Missing Shapes:**\n",
       "   - For each grid, determine what shape/color would logically fit into the patterns observed in previous grids.\n",
       "   - Follow the sequence seen to predict the next logical piece for the remaining shapes.\n",
       "\n",
       "<span style=\"color: #008080; text-decoration-color: #008080; font-weight: bold\">4</span>. **Final Arrangement:**\n",
       "   - The final arrangement should complete the pattern established in the previous grids.\n",
       "\n",
       "### Result\n",
       "\n",
       "The missing piece for each respective grid on the right should match the inferred patterns observed in the left \n",
       "grids. \n",
       "\n",
       "- **Grid <span style=\"color: #008080; text-decoration-color: #008080; font-weight: bold\">1</span>:** Orange <span style=\"font-weight: bold\">(</span>square<span style=\"font-weight: bold\">)</span>\n",
       "- **Grid <span style=\"color: #008080; text-decoration-color: #008080; font-weight: bold\">2</span>:** Blue <span style=\"font-weight: bold\">(</span>small square<span style=\"font-weight: bold\">)</span>\n",
       "- **Grid <span style=\"color: #008080; text-decoration-color: #008080; font-weight: bold\">3</span>:** Orange <span style=\"font-weight: bold\">(</span>rectangle<span style=\"font-weight: bold\">)</span>\n",
       "- **Grid <span style=\"color: #008080; text-decoration-color: #008080; font-weight: bold\">4</span>:** Blue <span style=\"font-weight: bold\">(</span>small square<span style=\"font-weight: bold\">)</span>\n",
       "\n",
       "In summary, the missing shapes/colors can be filled in according to the established patterns as described.\n",
       "</pre>\n"
      ],
      "text/plain": [
       "The puzzle presents a series of grids where colored shapes are arranged in various configurations. The goal is to \n",
       "deduce a pattern from these configurations and apply that to fill in the missing pieces.\n",
       "\n",
       "### Solution Outline\n",
       "\n",
       "\u001b[1;36m1\u001b[0m. **Identify Patterns in Grids:**\n",
       "   - Each grid contains a combination of colored shapes placed in different positions.\n",
       "   - The patterns seem to vary in colors and shapes across the grids.\n",
       "\n",
       "\u001b[1;36m2\u001b[0m. **Analyze Shape Placement:**\n",
       "   - Look for consistent positioning of shapes from one grid to the next.\n",
       "   - Identify which colors or shapes appear in each grid and where they are located.\n",
       "\n",
       "\u001b[1;36m3\u001b[0m. **Fill in Missing Shapes:**\n",
       "   - For each grid, determine what shape/color would logically fit into the patterns observed in previous grids.\n",
       "   - Follow the sequence seen to predict the next logical piece for the remaining shapes.\n",
       "\n",
       "\u001b[1;36m4\u001b[0m. **Final Arrangement:**\n",
       "   - The final arrangement should complete the pattern established in the previous grids.\n",
       "\n",
       "### Result\n",
       "\n",
       "The missing piece for each respective grid on the right should match the inferred patterns observed in the left \n",
       "grids. \n",
       "\n",
       "- **Grid \u001b[1;36m1\u001b[0m:** Orange \u001b[1m(\u001b[0msquare\u001b[1m)\u001b[0m\n",
       "- **Grid \u001b[1;36m2\u001b[0m:** Blue \u001b[1m(\u001b[0msmall square\u001b[1m)\u001b[0m\n",
       "- **Grid \u001b[1;36m3\u001b[0m:** Orange \u001b[1m(\u001b[0mrectangle\u001b[1m)\u001b[0m\n",
       "- **Grid \u001b[1;36m4\u001b[0m:** Blue \u001b[1m(\u001b[0msmall square\u001b[1m)\u001b[0m\n",
       "\n",
       "In summary, the missing shapes/colors can be filled in according to the established patterns as described.\n"
      ]
     },
     "metadata": {},
     "output_type": "display_data"
    }
   ],
   "source": [
    "caption = get_image_caption(image_path, prompt)\n",
    "\n",
    "#print(\"Caption for the image:\")\n",
    "#print(caption)\n",
    "rprint(caption) # print the caption"
   ]
  }
 ],
 "metadata": {
  "kernelspec": {
   "display_name": "Python 3",
   "language": "python",
   "name": "python3"
  },
  "language_info": {
   "codemirror_mode": {
    "name": "ipython",
    "version": 3
   },
   "file_extension": ".py",
   "mimetype": "text/x-python",
   "name": "python",
   "nbconvert_exporter": "python",
   "pygments_lexer": "ipython3",
   "version": "3.12.1"
  }
 },
 "nbformat": 4,
 "nbformat_minor": 5
}
