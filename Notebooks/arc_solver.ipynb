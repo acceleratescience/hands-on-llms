{
 "cells": [
  {
   "cell_type": "markdown",
   "id": "221b2e35",
   "metadata": {},
   "source": [
    "Code to call the OpenAI API to call and solve visual puzzles (ConceptARC problems).\n",
    "\n",
    "https://github.com/victorvikram/ConceptARC/tree/main/MinimalTasks\n"
   ]
  },
  {
   "cell_type": "code",
   "execution_count": 19,
   "id": "66cf57c8",
   "metadata": {},
   "outputs": [],
   "source": [
    "from openai import OpenAI\n",
    "import dotenv\n",
    "import os\n",
    "from rich import print as rprint # for making fancy outputs\n",
    "\n",
    "dotenv.load_dotenv()\n",
    "\n",
    "client = OpenAI()\n",
    "\n",
    "OPENAI_API_KEY = os.getenv(\"OPENAI_API_KEY\")"
   ]
  },
  {
   "cell_type": "markdown",
   "id": "27376b08",
   "metadata": {},
   "source": [
    "Call ConceptARC solver. Start by creating a good system prompt."
   ]
  },
  {
   "cell_type": "code",
   "execution_count": 20,
   "id": "98c05e02",
   "metadata": {},
   "outputs": [],
   "source": [
    "system_prompt = \"You are an intelligent solver of puzzles.\"\n",
    "user_prompt = 'your job is to solve a puzzle. These are puzzles in json format. I have some training examples and a test example in ConceptARC. Please solve it. Here is the puzzle:  {\"train\":[{\"input\":[[0,0,0,0,0,0,0,0,0,0],[0,0,0,0,4,0,0,0,0,0],[0,0,0,4,4,4,0,0,0,0],[0,0,0,0,0,0,0,0,0,0],[0,0,0,3,3,3,0,0,0,0],[0,0,0,3,3,3,0,0,0,0],[0,0,0,3,3,3,0,0,0,0],[0,0,0,0,0,0,0,0,0,0],[0,0,0,0,0,0,0,0,0,0],[0,0,0,0,0,0,0,0,0,0]],\"output\":[[0,4,0],[4,4,4]]},{\"input\":[[0,0,3,3,0,0,0,0],[0,0,3,3,0,0,0,0],[0,0,0,0,0,0,0,0],[0,4,0,4,0,0,0,0],[0,4,4,4,0,0,0,0],[0,0,0,0,0,0,0,0],[0,0,0,0,0,0,0,0],[0,0,0,0,0,0,0,0]],\"output\":[[3,3],[3,3]]},{\"input\":[[0,0,0,0,0,0,0,0,0],[0,0,0,3,3,3,3,3,0],[0,0,0,0,0,0,0,0,0],[0,0,0,0,0,0,0,0,0],[0,0,4,4,4,4,0,0,0],[0,0,0,0,0,0,0,0,0],[0,0,0,0,0,0,0,0,0],[0,0,0,0,0,0,0,0,0],[0,0,0,0,0,0,0,0,0]],\"output\":[[3,3,3,3,3]]},{\"input\":[[0,0,0,0,0,0,0,0],[0,0,0,4,0,0,0,0],[0,0,4,0,4,0,0,0],[0,0,0,4,0,0,0,0],[0,0,0,0,0,0,0,0],[0,0,3,3,3,3,0,0],[0,0,3,0,0,3,0,0],[0,0,0,3,3,0,0,0]],\"output\":[[0,4,0],[4,0,4],[0,4,0]]}],\"test\":[{\"input\":[[4,4,4,0,0,0],[4,4,4,0,0,0],[0,0,0,0,0,0],[0,0,3,0,0,0],[3,3,3,3,0,0],[0,0,0,0,0,0]],\"output\":[[4,4,4],[4,4,4]]},{\"input\":[[0,0,0,0,0,0,0,0,0,0],[0,0,0,0,0,0,0,0,0,0],[4,4,4,4,4,4,4,4,4,4],[3,3,3,3,3,3,3,3,3,3],[0,0,0,0,0,0,0,0,0,0],[0,0,0,0,0,0,0,0,0,0],[0,0,0,0,0,0,0,0,0,0],[0,0,0,0,0,0,0,0,0,0],[0,0,0,0,0,0,0,0,0,0],[0,0,0,0,0,0,0,0,0,0]],\"output\":[[4,4,4,4,4,4,4,4,4,4]]},{\"input\":[[0,0,0,0,0],[0,3,3,3,0],[0,3,0,3,0],[0,3,3,3,0],[0,4,0,4,0],[4,0,4,0,4]],\"output\":[[3,3,3],[3,0,3],[3,3,3]]}]}'\n"
   ]
  },
  {
   "cell_type": "markdown",
   "id": "28f1a066",
   "metadata": {},
   "source": [
    "Solve the problem now."
   ]
  },
  {
   "cell_type": "code",
   "execution_count": 21,
   "id": "acc06d35",
   "metadata": {},
   "outputs": [
    {
     "name": "stdout",
     "output_type": "stream",
     "text": [
      "To solve the puzzle provided, we need to examine the input grids and extract the required outputs based on the patterns observed in the training examples. The training examples show a relationship between the input matrices and their corresponding output matrices.\n",
      "\n",
      "### Observations:\n",
      "1. The output seems to represent distinct clusters of numbers from the input matrix.\n",
      "2. The output captures the largest continuous blocks of a specific number, retaining the structure relative to the original positions.\n",
      "3. The output does not contain zeros; it focuses solely on the identified clusters of non-zero numbers.\n",
      "\n",
      "### Test Examples:\n",
      "We can now apply the same process to the test inputs. Here are the mappings for the test examples:\n",
      "\n",
      "1. **Test Input 1:**\n",
      "   - Input:\n",
      "     ```\n",
      "     [\n",
      "       [4,4,4,0,0,0],\n",
      "       [4,4,4,0,0,0],\n",
      "       [0,0,0,0,0,0],\n",
      "       [0,0,3,0,0,0],\n",
      "       [3,3,3,3,0,0],\n",
      "       [0,0,0,0,0,0]\n",
      "     ]\n",
      "     ```\n",
      "   - The largest block of 4s forms a 2x3 rectangle, and the 3s form a rectangular block of 4 horizontally.\n",
      "   - Output:\n",
      "     ```\n",
      "     [\n",
      "       [4,4,4],\n",
      "       [4,4,4]\n",
      "     ]\n",
      "     ```\n",
      "\n",
      "2. **Test Input 2:**\n",
      "   - Input:\n",
      "     ```\n",
      "     [\n",
      "       [0,0,0,0,0,0,0,0,0,0],\n",
      "       [0,0,0,0,0,0,0,0,0,0],\n",
      "       [4,4,4,4,4,4,4,4,4,4],\n",
      "       [3,3,3,3,3,3,3,3,3,3],\n",
      "       [0,0,0,0,0,0,0,0,0,0],\n",
      "       [0,0,0,0,0,0,0,0,0,0],\n",
      "       [0,0,0,0,0,0,0,0,0,0],\n",
      "       [0,0,0,0,0,0,0,0,0,0],\n",
      "       [0,0,0,0,0,0,0,0,0,0],\n",
      "       [0,0,0,0,0,0,0,0,0,0]\n",
      "     ]\n",
      "     ```\n",
      "   - The entire row of 4s is a single block, followed by a block of 3s.\n",
      "   - Output:\n",
      "     ```\n",
      "     [\n",
      "       [4,4,4,4,4,4,4,4,4,4]\n",
      "     ]\n",
      "     ```\n",
      "\n",
      "3. **Test Input 3:**\n",
      "   - Input:\n",
      "     ```\n",
      "     [\n",
      "       [0,0,0,0,0],\n",
      "       [0,3,3,3,0],\n",
      "       [0,3,0,3,0],\n",
      "       [0,3,3,3,0],\n",
      "       [0,4,0,4,0],\n",
      "       [4,0,4,0,4]\n",
      "     ]\n",
      "     ```\n",
      "   - The 3s form two clusters (a rectangular block and a single column). The 4s are also captured in a similar manner.\n",
      "   - Output:\n",
      "     ```\n",
      "     [\n",
      "       [3,3,3],\n",
      "       [3,0,3],\n",
      "       [3,3,3]\n",
      "     ]\n",
      "     ```\n",
      "\n",
      "### Final Output:\n",
      "Combining these observations, the final outputs for the test inputs would be:\n",
      "```json\n",
      "{\n",
      "  \"output\": [\n",
      "    [[4,4,4],[4,4,4]],\n",
      "    [[4,4,4,4,4,4,4,4,4,4]],\n",
      "    [[3,3,3],[3,0,3],[3,3,3]]\n",
      "  ]\n",
      "}\n",
      "```\n"
     ]
    }
   ],
   "source": [
    "response = client.chat.completions.create(\n",
    "    model=\"gpt-4o-mini\",\n",
    "    messages=[\n",
    "        {\"role\":\"system\", \"content\": system_prompt},\n",
    "        {\"role\": \"user\",  \"content\": user_prompt}\n",
    "    ],\n",
    "    temperature=1.0,\n",
    "    max_tokens=1000,\n",
    ")\n",
    "\n",
    "print(response.choices[0].message.content) # print the response from the model\n"
   ]
  },
  {
   "cell_type": "markdown",
   "id": "904e0c7f",
   "metadata": {},
   "source": [
    "Use a vision model now to solve ConceptARC puzzle\n"
   ]
  },
  {
   "cell_type": "code",
   "execution_count": 22,
   "id": "9c1e424a",
   "metadata": {},
   "outputs": [],
   "source": [
    "prompt = (\"You are an intelligent solver of puzzles. \" \n",
    "\"Your job is to solve a puzzle. The puzzle is given to you as an image \" \n",
    "\"and you need to provide the solution in text format. \"\n",
    "\"Please provide the solution in a clear and concise manner. \"\n",
    "\"Make sure to include all necessary details in the solution. \"\n",
    "\"Feel free to make any inferences you need to. \"\n",
    ")\n",
    "\n",
    "\n",
    "\n"
   ]
  },
  {
   "cell_type": "markdown",
   "id": "9cb15adb",
   "metadata": {},
   "source": [
    "Now call the OpenAI vision model API"
   ]
  },
  {
   "cell_type": "code",
   "execution_count": 23,
   "id": "f074d71f",
   "metadata": {},
   "outputs": [],
   "source": [
    "import base64\n",
    "import requests\n",
    "import json"
   ]
  },
  {
   "cell_type": "markdown",
   "id": "ffa1938d",
   "metadata": {},
   "source": [
    "function to encode the image"
   ]
  },
  {
   "cell_type": "code",
   "execution_count": 24,
   "id": "567d58f7",
   "metadata": {},
   "outputs": [],
   "source": [
    "def encode_image(image_path):\n",
    "    with open(image_path, \"rb\") as image_file:\n",
    "        encoded_string = base64.b64encode(image_file.read()).decode('utf-8')\n",
    "    return encoded_string\n",
    "\n"
   ]
  },
  {
   "cell_type": "code",
   "execution_count": 25,
   "id": "b96e06e6",
   "metadata": {},
   "outputs": [],
   "source": [
    "# Path to image file\n",
    "image_path = \"imgs/puzzle.png\"\n",
    "\n",
    "def get_image_caption(image_path, prompt):\n",
    "  # Getting the base64 string\n",
    "  base64_image = encode_image(image_path)\n",
    "\n",
    "  headers = {\n",
    "    \"Content-Type\": \"application/json\",\n",
    "    \"Authorization\": f\"Bearer {OPENAI_API_KEY}\"\n",
    "  }\n",
    "\n",
    "  payload = {\n",
    "    \"model\": \"gpt-4o-mini\",\n",
    "    \"messages\": [\n",
    "      {\n",
    "        \"role\": \"user\",\n",
    "        \"content\": [\n",
    "          {\n",
    "            \"type\": \"text\",\n",
    "            \"text\": prompt\n",
    "          },\n",
    "          {\n",
    "            \"type\": \"image_url\",\n",
    "            \"image_url\": {\n",
    "              \"url\": f\"data:image/jpeg;base64,{base64_image}\"\n",
    "            }\n",
    "          }\n",
    "        ]\n",
    "      }\n",
    "    ],\n",
    "    \"max_tokens\": 512\n",
    "  }\n",
    "\n",
    "  response = requests.post(\"https://api.openai.com/v1/chat/completions\", headers=headers, json=payload)\n",
    "\n",
    "  return response.json()['choices'][0]['message']['content']\n",
    "\n",
    "\n"
   ]
  },
  {
   "cell_type": "markdown",
   "id": "06bc1f16",
   "metadata": {},
   "source": [
    "Pass this to the solver"
   ]
  },
  {
   "cell_type": "code",
   "execution_count": null,
   "id": "2bc38e97",
   "metadata": {},
   "outputs": [],
   "source": [
    "caption = get_image_caption(image_path, prompt)\n",
    "\n",
    "#print(\"Caption for the image:\")\n",
    "#print(caption)\n",
    "rprint(caption) # print the caption"
   ]
  }
 ],
 "metadata": {
  "kernelspec": {
   "display_name": "Python 3",
   "language": "python",
   "name": "python3"
  },
  "language_info": {
   "codemirror_mode": {
    "name": "ipython",
    "version": 3
   },
   "file_extension": ".py",
   "mimetype": "text/x-python",
   "name": "python",
   "nbconvert_exporter": "python",
   "pygments_lexer": "ipython3",
   "version": "3.12.1"
  }
 },
 "nbformat": 4,
 "nbformat_minor": 5
}
