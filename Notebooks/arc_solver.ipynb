{
 "cells": [
  {
   "cell_type": "markdown",
   "id": "221b2e35",
   "metadata": {},
   "source": [
    "Code to call the OpenAI API to call and solve visual puzzles (ConceptARC problems).\n",
    "\n",
    "https://github.com/victorvikram/ConceptARC/tree/main/MinimalTasks\n"
   ]
  },
  {
   "cell_type": "code",
   "execution_count": 22,
   "id": "66cf57c8",
   "metadata": {},
   "outputs": [],
   "source": [
    "from openai import OpenAI\n",
    "import dotenv\n",
    "import os\n",
    "from rich import print as rprint # for making fancy outputs\n",
    "\n",
    "dotenv.load_dotenv()\n",
    "\n",
    "client = OpenAI()\n",
    "\n",
    "OPENAI_API_KEY = os.getenv(\"OPENAI_API_KEY\")"
   ]
  },
  {
   "cell_type": "markdown",
   "id": "27376b08",
   "metadata": {},
   "source": [
    "Call ConceptARC solver. Start by creating a good system prompt."
   ]
  },
  {
   "cell_type": "code",
   "execution_count": 23,
   "id": "98c05e02",
   "metadata": {},
   "outputs": [],
   "source": [
    "system_prompt = \"You are an intelligent solver of puzzles.\"\n",
    "user_prompt = 'your job is to solve a puzzle. These are puzzles in json format. I have some training examples and a test example in ConceptARC. Please solve it. Here is the puzzle:  {\"train\":[{\"input\":[[0,0,0,0,0,0,0,0,0,0],[0,0,0,0,4,0,0,0,0,0],[0,0,0,4,4,4,0,0,0,0],[0,0,0,0,0,0,0,0,0,0],[0,0,0,3,3,3,0,0,0,0],[0,0,0,3,3,3,0,0,0,0],[0,0,0,3,3,3,0,0,0,0],[0,0,0,0,0,0,0,0,0,0],[0,0,0,0,0,0,0,0,0,0],[0,0,0,0,0,0,0,0,0,0]],\"output\":[[0,4,0],[4,4,4]]},{\"input\":[[0,0,3,3,0,0,0,0],[0,0,3,3,0,0,0,0],[0,0,0,0,0,0,0,0],[0,4,0,4,0,0,0,0],[0,4,4,4,0,0,0,0],[0,0,0,0,0,0,0,0],[0,0,0,0,0,0,0,0],[0,0,0,0,0,0,0,0]],\"output\":[[3,3],[3,3]]},{\"input\":[[0,0,0,0,0,0,0,0,0],[0,0,0,3,3,3,3,3,0],[0,0,0,0,0,0,0,0,0],[0,0,0,0,0,0,0,0,0],[0,0,4,4,4,4,0,0,0],[0,0,0,0,0,0,0,0,0],[0,0,0,0,0,0,0,0,0],[0,0,0,0,0,0,0,0,0],[0,0,0,0,0,0,0,0,0]],\"output\":[[3,3,3,3,3]]},{\"input\":[[0,0,0,0,0,0,0,0],[0,0,0,4,0,0,0,0],[0,0,4,0,4,0,0,0],[0,0,0,4,0,0,0,0],[0,0,0,0,0,0,0,0],[0,0,3,3,3,3,0,0],[0,0,3,0,0,3,0,0],[0,0,0,3,3,0,0,0]],\"output\":[[0,4,0],[4,0,4],[0,4,0]]}],\"test\":[{\"input\":[[4,4,4,0,0,0],[4,4,4,0,0,0],[0,0,0,0,0,0],[0,0,3,0,0,0],[3,3,3,3,0,0],[0,0,0,0,0,0]],\"output\":[[4,4,4],[4,4,4]]},{\"input\":[[0,0,0,0,0,0,0,0,0,0],[0,0,0,0,0,0,0,0,0,0],[4,4,4,4,4,4,4,4,4,4],[3,3,3,3,3,3,3,3,3,3],[0,0,0,0,0,0,0,0,0,0],[0,0,0,0,0,0,0,0,0,0],[0,0,0,0,0,0,0,0,0,0],[0,0,0,0,0,0,0,0,0,0],[0,0,0,0,0,0,0,0,0,0],[0,0,0,0,0,0,0,0,0,0]],\"output\":[[4,4,4,4,4,4,4,4,4,4]]},{\"input\":[[0,0,0,0,0],[0,3,3,3,0],[0,3,0,3,0],[0,3,3,3,0],[0,4,0,4,0],[4,0,4,0,4]],\"output\":[[3,3,3],[3,0,3],[3,3,3]]}]}'\n"
   ]
  },
  {
   "cell_type": "markdown",
   "id": "28f1a066",
   "metadata": {},
   "source": [
    "Solve the problem now."
   ]
  },
  {
   "cell_type": "code",
   "execution_count": 24,
   "id": "acc06d35",
   "metadata": {},
   "outputs": [
    {
     "name": "stdout",
     "output_type": "stream",
     "text": [
      "To solve the puzzle, we need to analyze the input arrays in the test examples and deduce the expected output arrays based on the previous training examples.\n",
      "\n",
      "### Solving the Test Examples:\n",
      "\n",
      "1. **Test Example 1**:\n",
      "   **Input**:\n",
      "   ```\n",
      "   [\n",
      "     [4, 4, 4, 0, 0, 0],\n",
      "     [4, 4, 4, 0, 0, 0],\n",
      "     [0, 0, 0, 0, 0, 0],\n",
      "     [0, 0, 3, 0, 0, 0],\n",
      "     [3, 3, 3, 3, 0, 0],\n",
      "     [0, 0, 0, 0, 0, 0]\n",
      "   ]\n",
      "   ```\n",
      "\n",
      "   Here, the first two rows contain the number `4`, which seems to form a group. Therefore, we find the maximum rows of `4`s:\n",
      "   **Output**:\n",
      "   ```\n",
      "   [\n",
      "     [4, 4, 4],\n",
      "     [4, 4, 4]\n",
      "   ]\n",
      "   ```\n",
      "\n",
      "2. **Test Example 2**:\n",
      "   **Input**:\n",
      "   ```\n",
      "   [\n",
      "     [0,0,0,0,0,0,0,0,0,0],\n",
      "     [0,0,0,0,0,0,0,0,0,0],\n",
      "     [4,4,4,4,4,4,4,4,4,4],\n",
      "     [3,3,3,3,3,3,3,3,3,3],\n",
      "     [0,0,0,0,0,0,0,0,0,0],\n",
      "     [0,0,0,0,0,0,0,0,0,0],\n",
      "     [0,0,0,0,0,0,0,0,0,0],\n",
      "     [0,0,0,0,0,0,0,0,0,0],\n",
      "     [0,0,0,0,0,0,0,0,0,0],\n",
      "     [0,0,0,0,0,0,0,0,0,0]\n",
      "   ]\n",
      "   ```\n",
      "\n",
      "   In this grid, the third row with all `4s` will form the output that contains maximum width of `4`s:\n",
      "   **Output**:\n",
      "   ```\n",
      "   [\n",
      "     [4, 4, 4, 4, 4, 4, 4, 4, 4, 4]\n",
      "   ]\n",
      "   ```\n",
      "\n",
      "3. **Test Example 3**:\n",
      "   **Input**:\n",
      "   ```\n",
      "   [\n",
      "     [0,0,0,0,0],\n",
      "     [0,3,3,3,0],\n",
      "     [0,3,0,3,0],\n",
      "     [0,3,3,3,0],\n",
      "     [0,4,0,4,0],\n",
      "     [4,0,4,0,4]\n",
      "   ]\n",
      "   ```\n",
      "\n",
      "   In this input, we see occurrences of `3s` that are consistently showing up in the second, third, and fourth rows. Thus those rows will be our output based on the groupings:\n",
      "   **Output**:\n",
      "   ```\n",
      "   [\n",
      "     [3,3,3],\n",
      "     [3,0,3],\n",
      "     [3,3,3]\n",
      "   ]\n",
      "   ```\n",
      "\n",
      "### Final Outputs:\n",
      "\n",
      "Based on the analysis above, the outputs for the test examples would be:\n",
      "\n",
      "1. For First Test: `[[4, 4, 4], [4, 4, 4]]`\n",
      "2. For Second Test: `[[4, 4, 4, 4, 4, 4, 4, 4, 4, 4]]`\n",
      "3. For Third Test: `[[3, 3, 3], [3, 0, 3], [3, 3, 3]]`\n",
      "\n",
      "These outputs can be represented in a structured JSON format as follows:\n",
      "\n",
      "```json\n",
      "{\n",
      "  \"test_results\": [\n",
      "    [[4, 4, 4], [4, 4, 4]],\n",
      "    [[4, 4, 4, 4, 4, 4, 4, 4, 4, 4]],\n",
      "    [[3, 3, 3], [3, 0, 3], [3, 3, 3]]\n",
      "  ]\n",
      "}\n",
      "```\n"
     ]
    }
   ],
   "source": [
    "response = client.chat.completions.create(\n",
    "    model=\"gpt-4o-mini\",\n",
    "    messages=[\n",
    "        {\"role\":\"system\", \"content\": system_prompt},\n",
    "        {\"role\": \"user\",  \"content\": user_prompt}\n",
    "    ],\n",
    "    temperature=1.0,\n",
    "    max_tokens=1000,\n",
    ")\n",
    "\n",
    "print(response.choices[0].message.content) # print the response from the model\n"
   ]
  },
  {
   "cell_type": "markdown",
   "id": "904e0c7f",
   "metadata": {},
   "source": [
    "Use a vision model now to solve ConceptARC puzze\n"
   ]
  },
  {
   "cell_type": "code",
   "execution_count": 36,
   "id": "9c1e424a",
   "metadata": {},
   "outputs": [],
   "source": [
    "prompt = (\"You are an intelligent solver of puzzles.\",\n",
    "\"Your job is to solve a puzzle. The puzzle is given to you as an image\",\n",
    "\"and you need to provide the solution in text format.\",\n",
    "\"Please provide the solution in a clear and concise manner.\",\n",
    "\"Make sure to include all necessary details in the solution.\",\n",
    "\"Feel free to make any inferences you need to.\"\n",
    ")\n",
    "\n",
    "\n",
    "\n"
   ]
  },
  {
   "cell_type": "markdown",
   "id": "9cb15adb",
   "metadata": {},
   "source": [
    "Now call the OpenAI vision model API"
   ]
  },
  {
   "cell_type": "code",
   "execution_count": 38,
   "id": "f074d71f",
   "metadata": {},
   "outputs": [],
   "source": [
    "import base64\n",
    "import requests\n",
    "import json"
   ]
  },
  {
   "cell_type": "markdown",
   "id": "ffa1938d",
   "metadata": {},
   "source": [
    "function to encode the image"
   ]
  },
  {
   "cell_type": "code",
   "execution_count": 39,
   "id": "567d58f7",
   "metadata": {},
   "outputs": [],
   "source": [
    "def encode_image(image_path):\n",
    "    with open(image_path, \"rb\") as image_file:\n",
    "        encoded_string = base64.b64encode(image_file.read()).decode('utf-8')\n",
    "    return encoded_string\n",
    "\n"
   ]
  },
  {
   "cell_type": "code",
   "execution_count": 40,
   "id": "b96e06e6",
   "metadata": {},
   "outputs": [],
   "source": [
    "# Path to image file\n",
    "image_path = \"imgs/puzzle.png\"\n",
    "\n",
    "def get_image_caption(image_path, prompt):\n",
    "  # Getting the base64 string\n",
    "  base64_image = encode_image(image_path)\n",
    "\n",
    "  headers = {\n",
    "    \"Content-Type\": \"application/json\",\n",
    "    \"Authorization\": f\"Bearer {OPENAI_API_KEY}\"\n",
    "  }\n",
    "\n",
    "  payload = {\n",
    "    \"model\": \"gpt-4o-mini\",\n",
    "    \"messages\": [\n",
    "      {\n",
    "        \"role\": \"user\",\n",
    "        \"content\": [\n",
    "          {\n",
    "            \"type\": \"text\",\n",
    "            \"text\": prompt\n",
    "          },\n",
    "          {\n",
    "            \"type\": \"image_url\",\n",
    "            \"image_url\": {\n",
    "              \"url\": f\"data:image/jpeg;base64,{base64_image}\"\n",
    "            }\n",
    "          }\n",
    "        ]\n",
    "      }\n",
    "    ],\n",
    "    \"max_tokens\": 512\n",
    "  }\n",
    "\n",
    "  response = requests.post(\"https://api.openai.com/v1/chat/completions\", headers=headers, json=payload)\n",
    "\n",
    "  return response.json()#['choices'][0]['message']['content']\n",
    "\n",
    "\n"
   ]
  },
  {
   "cell_type": "markdown",
   "id": "06bc1f16",
   "metadata": {},
   "source": [
    "Pass this to the solver"
   ]
  },
  {
   "cell_type": "code",
   "execution_count": 41,
   "id": "2bc38e97",
   "metadata": {},
   "outputs": [
    {
     "data": {
      "text/html": [
       "<pre style=\"white-space:pre;overflow-x:auto;line-height:normal;font-family:Menlo,'DejaVu Sans Mono',consolas,'Courier New',monospace\"><span style=\"font-weight: bold\">{</span>\n",
       "    <span style=\"color: #008000; text-decoration-color: #008000\">'error'</span>: <span style=\"font-weight: bold\">{</span>\n",
       "        <span style=\"color: #008000; text-decoration-color: #008000\">'message'</span>: <span style=\"color: #008000; text-decoration-color: #008000\">\"Invalid type for 'messages[0].content[0].text': expected a string, but got an array instead.\"</span>,\n",
       "        <span style=\"color: #008000; text-decoration-color: #008000\">'type'</span>: <span style=\"color: #008000; text-decoration-color: #008000\">'invalid_request_error'</span>,\n",
       "        <span style=\"color: #008000; text-decoration-color: #008000\">'param'</span>: <span style=\"color: #008000; text-decoration-color: #008000\">'messages[0].content[0].text'</span>,\n",
       "        <span style=\"color: #008000; text-decoration-color: #008000\">'code'</span>: <span style=\"color: #008000; text-decoration-color: #008000\">'invalid_type'</span>\n",
       "    <span style=\"font-weight: bold\">}</span>\n",
       "<span style=\"font-weight: bold\">}</span>\n",
       "</pre>\n"
      ],
      "text/plain": [
       "\u001b[1m{\u001b[0m\n",
       "    \u001b[32m'error'\u001b[0m: \u001b[1m{\u001b[0m\n",
       "        \u001b[32m'message'\u001b[0m: \u001b[32m\"Invalid type for 'messages\u001b[0m\u001b[32m[\u001b[0m\u001b[32m0\u001b[0m\u001b[32m]\u001b[0m\u001b[32m.content\u001b[0m\u001b[32m[\u001b[0m\u001b[32m0\u001b[0m\u001b[32m]\u001b[0m\u001b[32m.text': expected a string, but got an array instead.\"\u001b[0m,\n",
       "        \u001b[32m'type'\u001b[0m: \u001b[32m'invalid_request_error'\u001b[0m,\n",
       "        \u001b[32m'param'\u001b[0m: \u001b[32m'messages\u001b[0m\u001b[32m[\u001b[0m\u001b[32m0\u001b[0m\u001b[32m]\u001b[0m\u001b[32m.content\u001b[0m\u001b[32m[\u001b[0m\u001b[32m0\u001b[0m\u001b[32m]\u001b[0m\u001b[32m.text'\u001b[0m,\n",
       "        \u001b[32m'code'\u001b[0m: \u001b[32m'invalid_type'\u001b[0m\n",
       "    \u001b[1m}\u001b[0m\n",
       "\u001b[1m}\u001b[0m\n"
      ]
     },
     "metadata": {},
     "output_type": "display_data"
    }
   ],
   "source": [
    "caption = get_image_caption(image_path, prompt)\n",
    "\n",
    "#print(\"Caption for the image:\")\n",
    "#print(caption)\n",
    "rprint(caption) # print the caption"
   ]
  }
 ],
 "metadata": {
  "kernelspec": {
   "display_name": "Python 3",
   "language": "python",
   "name": "python3"
  },
  "language_info": {
   "codemirror_mode": {
    "name": "ipython",
    "version": 3
   },
   "file_extension": ".py",
   "mimetype": "text/x-python",
   "name": "python",
   "nbconvert_exporter": "python",
   "pygments_lexer": "ipython3",
   "version": "3.12.1"
  }
 },
 "nbformat": 4,
 "nbformat_minor": 5
}
