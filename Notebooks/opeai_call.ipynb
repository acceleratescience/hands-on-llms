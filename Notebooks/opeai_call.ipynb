{
 "cells": [
  {
   "cell_type": "code",
   "execution_count": 4,
   "id": "5267b352",
   "metadata": {},
   "outputs": [
    {
     "name": "stdout",
     "output_type": "stream",
     "text": [
      "Generated Text:\n",
      "An error occurred: \n",
      "\n",
      "You tried to access openai.Completion, but this is no longer supported in openai>=1.0.0 - see the README at https://github.com/openai/openai-python for the API.\n",
      "\n",
      "You can run `openai migrate` to automatically upgrade your codebase to use the 1.0.0 interface. \n",
      "\n",
      "Alternatively, you can pin your installation to the old version, e.g. `pip install openai==0.28`\n",
      "\n",
      "A detailed migration guide is available here: https://github.com/openai/openai-python/discussions/742\n",
      "\n"
     ]
    }
   ],
   "source": [
    "# Import necessary libraries\n",
    "import openai  # OpenAI library for interacting with the API\n",
    "import os      # Library for interacting with the operating system (e.g., environment variables)\n",
    "\n",
    "# Set up the OpenAI API key\n",
    "# Make sure to set your OpenAI API key as an environment variable named 'OPENAI_API_KEY'\n",
    "openai.api_key = os.getenv(\"OPENAI_API_KEY\")\n",
    "\n",
    "# Function to call the OpenAI API\n",
    "def generate_text(prompt, model=\"gpt-4o-mini\", max_tokens=100):\n",
    "    \"\"\"\n",
    "    Generates text using the OpenAI API.\n",
    "\n",
    "    Parameters:\n",
    "        prompt (str): The input prompt to guide the text generation.\n",
    "        model (str): The name of the OpenAI model to use (default: \"text-davinci-003\").\n",
    "        max_tokens (int): The maximum number of tokens to generate (default: 100).\n",
    "\n",
    "    Returns:\n",
    "        str: The generated text from the OpenAI API.\n",
    "    \"\"\"\n",
    "    try:\n",
    "        # Call the OpenAI API with the specified parameters\n",
    "        response = openai.Completion.create(\n",
    "            engine=model,\n",
    "            prompt=prompt,\n",
    "            max_tokens=max_tokens\n",
    "        )\n",
    "        # Extract and return the generated text from the response\n",
    "        return response.choices[0].text.strip()\n",
    "    except Exception as e:\n",
    "        # Handle any errors that occur during the API call\n",
    "        return f\"An error occurred: {e}\"\n",
    "\n",
    "# Example usage\n",
    "if __name__ == \"__main__\":\n",
    "    # Define a sample prompt\n",
    "    sample_prompt = \"Write a short poem about the ocean.\"\n",
    "    \n",
    "    # Call the function to generate text\n",
    "    generated_text = generate_text(sample_prompt)\n",
    "    \n",
    "    # Print the generated text\n",
    "    print(\"Generated Text:\")\n",
    "    print(generated_text)"
   ]
  }
 ],
 "metadata": {
  "kernelspec": {
   "display_name": "Python 3",
   "language": "python",
   "name": "python3"
  },
  "language_info": {
   "codemirror_mode": {
    "name": "ipython",
    "version": 3
   },
   "file_extension": ".py",
   "mimetype": "text/x-python",
   "name": "python",
   "nbconvert_exporter": "python",
   "pygments_lexer": "ipython3",
   "version": "3.12.1"
  }
 },
 "nbformat": 4,
 "nbformat_minor": 5
}
